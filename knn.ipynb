{
 "cells": [
  {
   "cell_type": "code",
   "execution_count": 8,
   "metadata": {},
   "outputs": [
    {
     "name": "stdout",
     "output_type": "stream",
     "text": [
      "[array([1., 1., 1., 1., 1., 1., 1., 1., 1., 1., 1., 1., 1., 1., 1., 1., 1.,\n",
      "       1., 1., 1., 1., 1., 1., 1., 1., 1., 1., 1., 1., 1., 1., 1., 1., 1.,\n",
      "       1., 1., 1., 1., 1., 1., 1., 1., 1., 1., 1., 1., 1., 1., 1., 1., 1.,\n",
      "       1., 1., 1., 1., 0., 0., 0., 1., 1., 1., 1., 1., 1., 1., 1., 1., 1.,\n",
      "       1., 1., 1., 1., 1., 1., 0., 0., 0., 0., 1., 1., 1., 1., 1., 1., 1.,\n",
      "       1., 1., 1., 1., 1., 1., 1., 1., 0., 0., 0., 0., 0., 1., 1., 1., 1.,\n",
      "       1., 1., 1., 1., 1., 1., 1., 1., 1., 0., 0., 0., 0., 0., 0., 1., 1.,\n",
      "       1., 1., 1., 1., 1., 1., 1., 1., 1., 1., 1., 0., 0., 0., 0., 0., 0.,\n",
      "       0., 1., 1., 1., 1., 1., 1., 1., 1., 1., 1., 1., 0., 0., 0., 0., 0.,\n",
      "       0., 0., 0., 0., 1., 1., 1., 1., 1., 1., 1., 1., 1., 1., 0., 0., 0.,\n",
      "       0., 0., 1., 0., 0., 0., 0., 1., 1., 1., 1., 1., 1., 1., 1., 1., 0.,\n",
      "       0., 0., 0., 1., 1., 1., 0., 0., 0., 1., 1., 1., 1., 1., 1., 1., 1.,\n",
      "       1., 0., 0., 0., 0., 1., 1., 1., 1., 0., 0., 0., 1., 1., 1., 1., 1.,\n",
      "       1., 1., 1., 0., 0., 0., 0., 1., 1., 1., 1., 1., 0., 0., 0., 1., 1.,\n",
      "       1., 1., 1., 1., 1., 0., 0., 0., 0., 1., 1., 1., 1., 1., 1., 0., 0.,\n",
      "       0., 1., 1., 1., 1., 1., 0., 0., 0., 0., 0., 1., 1., 1., 1., 1., 1.,\n",
      "       1., 0., 0., 0., 0., 1., 1., 1., 0., 0., 0., 0., 0., 1., 1., 1., 1.,\n",
      "       1., 1., 1., 1., 0., 0., 0., 0., 1., 1., 1., 1., 0., 0., 1., 1., 1.,\n",
      "       1., 1., 1., 1., 1., 1., 1., 1., 0., 0., 0., 1., 1., 1., 1., 1., 1.,\n",
      "       1., 1., 1., 1., 1., 1., 1., 1., 1., 1., 1., 1., 0., 0., 0., 1., 1.,\n",
      "       1., 1., 1., 1., 1., 1., 1., 1., 1., 1., 1., 1., 1., 1., 1., 0., 0.,\n",
      "       0., 0., 0., 1., 1., 1., 1., 1., 1., 1., 1., 1., 1., 1., 1., 1., 1.,\n",
      "       1., 1., 1., 0., 1., 1., 1., 1., 1., 1., 1., 1., 1., 1., 1., 1., 1.,\n",
      "       1., 1., 1., 1., 1., 1., 1., 1., 1.])]\n"
     ]
    }
   ],
   "source": [
    "\n",
    "import math\n",
    "from skimage import io\n",
    "from skimage.transform import resize\n",
    "from scipy import ndimage as ndi\n",
    "import matplotlib.pyplot as plt\n",
    "import numpy as np\n",
    "import math\n",
    "\n",
    "def imgToBinaryVector(image):\n",
    "    image = resize(image, (20, 20), preserve_range=True).astype('uint8')\n",
    "    threshold = 150\n",
    "    # make all pixels < threshold black\n",
    "    binarized = 1.0 * (image > threshold)\n",
    "\n",
    "    # convert 3d array to 2d array\n",
    "    return binarized[:, :, 0]\n",
    "\n",
    "def distance(v1, v2):\n",
    "    return math.sqrt(sum(\n",
    "        [\n",
    "        pow((bytesToInt(v1)-bytesToInt(v2)),2) \n",
    "        for v1,v2 in zip(v1,v2)\n",
    "        ]))\n",
    "\n",
    "def getImageDataInLine(imgName):\n",
    "    print (io.imread(imgName))\n",
    "\n",
    "def getTrainingDistanceForTestSample(X_train, test_sample):\n",
    "    return [distance(train_sample,test_sample) for train_sample in X_train]\n",
    "\n",
    "def knn(X_train, Y_train, X_test, k=3):\n",
    "    y_pred = []\n",
    "    for sample in X_test:\n",
    "        training_disance = getTrainingDistanceForTestSample(X_train, sample)\n",
    "        sorted_distance_indices = [ \n",
    "            pair[0]\n",
    "            for pair in sorted(\n",
    "                enumerate(training_disance), \n",
    "                key=lambda x: x[1]\n",
    "                )\n",
    "        ]\n",
    "        candidates = [\n",
    "            Y_train[idx]\n",
    "            for idx in sorted_distance_indices[:k]\n",
    "        ]\n",
    "        ysample = 5\n",
    "        y_pred.append(ysample)\n",
    "\n",
    "def main():\n",
    "    fileNames = []\n",
    "    for i in range(0,10):\n",
    "        for x in range(1,11):\n",
    "            fileNames.append(f'baseProjetOCR/{i}_{x}.png')\n",
    "\n",
    "#print(imgToBinaryVector(io.imread(\"baseProjetOCR/1_2.png\")))\n",
    "vector = []\n",
    "vector = np.concatenate(imgToBinaryVector(io.imread(\"baseProjetOCR/1_2.png\")))\n",
    "        \n",
    "print (vector)\n"
   ]
  }
 ],
 "metadata": {
  "interpreter": {
   "hash": "916dbcbb3f70747c44a77c7bcd40155683ae19c65e1c03b4aa3499c5328201f1"
  },
  "kernelspec": {
   "display_name": "Python 3.8.10 64-bit",
   "language": "python",
   "name": "python3"
  },
  "language_info": {
   "codemirror_mode": {
    "name": "ipython",
    "version": 3
   },
   "file_extension": ".py",
   "mimetype": "text/x-python",
   "name": "python",
   "nbconvert_exporter": "python",
   "pygments_lexer": "ipython3",
   "version": "3.8.10"
  },
  "orig_nbformat": 4
 },
 "nbformat": 4,
 "nbformat_minor": 2
}
