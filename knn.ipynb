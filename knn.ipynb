{
 "cells": [
  {
   "cell_type": "code",
   "execution_count": 1,
   "metadata": {},
   "outputs": [
    {
     "ename": "ModuleNotFoundError",
     "evalue": "No module named 'skimage'",
     "output_type": "error",
     "traceback": [
      "\u001b[1;31m---------------------------------------------------------------------------\u001b[0m",
      "\u001b[1;31mModuleNotFoundError\u001b[0m                       Traceback (most recent call last)",
      "\u001b[1;32mc:\\Users\\Gabin\\Documents\\GitHubDesktop\\image-project\\knn.ipynb Cell 1'\u001b[0m in \u001b[0;36m<cell line: 2>\u001b[1;34m()\u001b[0m\n\u001b[0;32m      <a href='vscode-notebook-cell:/c%3A/Users/Gabin/Documents/GitHubDesktop/image-project/knn.ipynb#ch0000000?line=0'>1</a>\u001b[0m \u001b[39mimport\u001b[39;00m \u001b[39mmath\u001b[39;00m\n\u001b[1;32m----> <a href='vscode-notebook-cell:/c%3A/Users/Gabin/Documents/GitHubDesktop/image-project/knn.ipynb#ch0000000?line=1'>2</a>\u001b[0m \u001b[39mfrom\u001b[39;00m \u001b[39mskimage\u001b[39;00m \u001b[39mimport\u001b[39;00m io\n\u001b[0;32m      <a href='vscode-notebook-cell:/c%3A/Users/Gabin/Documents/GitHubDesktop/image-project/knn.ipynb#ch0000000?line=2'>3</a>\u001b[0m \u001b[39mfrom\u001b[39;00m \u001b[39mskimage\u001b[39;00m\u001b[39m.\u001b[39;00m\u001b[39mtransform\u001b[39;00m \u001b[39mimport\u001b[39;00m resize\n\u001b[0;32m      <a href='vscode-notebook-cell:/c%3A/Users/Gabin/Documents/GitHubDesktop/image-project/knn.ipynb#ch0000000?line=3'>4</a>\u001b[0m \u001b[39mfrom\u001b[39;00m \u001b[39mscipy\u001b[39;00m \u001b[39mimport\u001b[39;00m ndimage \u001b[39mas\u001b[39;00m ndi\n",
      "\u001b[1;31mModuleNotFoundError\u001b[0m: No module named 'skimage'"
     ]
    }
   ],
   "source": [
    "\n",
    "import math\n",
    "from skimage import io\n",
    "from skimage.transform import resize\n",
    "from scipy import ndimage as ndi\n",
    "import matplotlib.pyplot as plt\n",
    "import numpy as np\n",
    "import math\n",
    "\n",
    "def imgToBinaryVector(image):\n",
    "    image = resize(image, (20, 20), preserve_range=True).astype('uint8')\n",
    "    threshold = 150\n",
    "    # make all pixels < threshold black\n",
    "    binarized = 1.0 * (image > threshold)\n",
    "\n",
    "    # convert 3d array to 2d array\n",
    "    return np.concatenate(binarized[:, :, 0])\n",
    "\n",
    "def distance(v1, v2):\n",
    "    return math.sqrt(\n",
    "            sum(\n",
    "                [ pow((v1-v2),2) for v1,v2 in zip(v1,v2) ]\n",
    "            )\n",
    "        )\n",
    "\n",
    "def getTrainingDistanceForTestSample(X_train, test_sample):\n",
    "    return [distance(train_sample,test_sample) for train_sample in X_train]\n",
    "\n",
    "def get_most_frequent_element(l):\n",
    "    return max(l, key=l.count)\n",
    "\n",
    "def knn(X_train, Y_train, sample, k=3):\n",
    "    training_disance = getTrainingDistanceForTestSample(X_train, sample)\n",
    "    sorted_distance_indices = [ \n",
    "        pair[0]\n",
    "        for pair in sorted(enumerate(training_disance), key=lambda x: x[1])\n",
    "    ]\n",
    "\n",
    "    candidates = [\n",
    "        Y_train[idx]\n",
    "        for idx in sorted_distance_indices[:k]\n",
    "    ]\n",
    "    \n",
    "    top_candidate = get_most_frequent_element(candidates)\n",
    "    return top_candidate\n",
    "\n",
    "\n",
    "def getNumberOfFileName(s):\n",
    "    return int(s.split(\"/\", 1)[1][0])\n",
    "\n",
    "def main():\n",
    "    fileNames = []\n",
    "    imageData = []\n",
    "    for i in range(0,10):\n",
    "        for x in range(1,11):\n",
    "            fileNames.append(f'baseProjetOCR/{i}_{x}.png')\n",
    "    print (fileNames)\n",
    "\n",
    "    for file in fileNames:\n",
    "            imageData = imageData.append({imgToBinaryVector(file):file})\n",
    "\n",
    "    for key, value in ImageNameMap.items():\n",
    "        ImageNameMaptest = ImageNameMap\n",
    "\n",
    "        knn(imagesTest,)\n"
   ]
  }
 ],
 "metadata": {
  "interpreter": {
   "hash": "916dbcbb3f70747c44a77c7bcd40155683ae19c65e1c03b4aa3499c5328201f1"
  },
  "kernelspec": {
   "display_name": "Python 3.8.10 64-bit",
   "language": "python",
   "name": "python3"
  },
  "language_info": {
   "codemirror_mode": {
    "name": "ipython",
    "version": 3
   },
   "file_extension": ".py",
   "mimetype": "text/x-python",
   "name": "python",
   "nbconvert_exporter": "python",
   "pygments_lexer": "ipython3",
   "version": "3.10.2"
  },
  "orig_nbformat": 4
 },
 "nbformat": 4,
 "nbformat_minor": 2
}
