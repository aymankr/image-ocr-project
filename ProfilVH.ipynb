{
 "cells": [
  {
   "cell_type": "code",
   "execution_count": 33,
   "metadata": {},
   "outputs": [
    {
     "name": "stdout",
     "output_type": "stream",
     "text": [
      "baseProjetOCR/6_7.png\n",
      "[8.0, 0.0, 5.0, 13.0, 16.0, 18.0, 21.0, 23.0, 23.0, 13.0, 13.0, 12.0, 10.0, 11.0, 10.0, 10.0, 9.0, 9.0, 9.0, 10.0, 9.0, 9.0, 8.0, 8.0, 8.0, 9.0, 10.0, 9.0, 8.0, 7.0, 8.0, 7.0, 21.0, 27.0, 36.0, 41.0, 45.0, 50.0, 33.0, 30.0, 28.0, 25.0, 22.0, 21.0, 21.0, 21.0, 24.0, 26.0, 28.0, 31.0, 35.0, 41.0, 45.0, 42.0, 33.0, 24.0, 11.0, 0.0, 0.0, 0.0]\n"
     ]
    },
    {
     "data": {
      "image/png": "[encoded data removed]",
      "text/plain": [
       "<Figure size 432x288 with 1 Axes>"
      ]
     },
     "metadata": {
      "needs_background": "light"
     },
     "output_type": "display_data"
    }
   ],
   "source": [
    "from skimage import io\n",
    "from skimage.transform import resize\n",
    "import numpy as np\n",
    "import scipy.ndimage as ndi\n",
    "import matplotlib.pyplot as plt\n",
    "from typing import Iterator\n",
    "\n",
    "FIRST = 6\n",
    "SECOND = 4\n",
    "SIZE = 60\n",
    "THRESHOLD = 150\n",
    "\n",
    "def MapToHProfile(matrix: np.ndarray):\n",
    "    return SIZE - matrix.sum()\n",
    "    \n",
    "def getHorizontaleProfile(img):\n",
    "    img = resize(img, (SIZE, SIZE), preserve_range=True).astype('uint8')\n",
    "    binarized = 1.0 * (img > THRESHOLD)\n",
    "    binarized = binarized[:,:,0]\n",
    "    return (list(map(MapToHProfile, binarized)),binarized)\n",
    "    \n",
    "\n",
    "# read in image as 8 bit grayscale\n",
    "img = io.imread(f'baseProjetOCR/{FIRST}_{SECOND}.png')\n",
    "\n",
    "hProfile = getHorizontaleProfile(img)\n",
    "vector = hProfile[0]\n",
    "img = hProfile[1]\n",
    "\n",
    "def jspTropEncore():\n",
    "    vectors = []\n",
    "    for i in range(0,10):\n",
    "        for j in range(1,11):\n",
    "            if (i == FIRST and j == SECOND):\n",
    "                continue\n",
    "            name = f'baseProjetOCR/{i}_{j}.png'\n",
    "            compImg = io.imread(name)\n",
    "            vector = getHorizontaleProfile(compImg)[0]\n",
    "            vectors.append((name,vector))\n",
    "    return vectors\n",
    "\n",
    "def findMatch(aVector, vectors):\n",
    "    highest = 'null'\n",
    "    highScore = 0\n",
    "    for item in vectors:\n",
    "        vals = item[1]\n",
    "        score = 0\n",
    "        for index in range(SIZE):\n",
    "            difference = max(aVector[index],vals[index]) - min(aVector[index],vals[index])\n",
    "            score += difference if (difference <= 3) else 0\n",
    "        if (score > highScore):\n",
    "            highest = item[0]\n",
    "            highScore = score\n",
    "    return highest\n",
    "        \n",
    "        \n",
    "\n",
    "print(findMatch(vector,jspTropEncore()))\n",
    "print(vector)\n",
    "imgplot = plt.imshow(img)\n",
    "plt.show()\n",
    "\n",
    "\n"
   ]
  }
 ],
 "metadata": {
  "interpreter": {
   "hash": "aee8b7b246df8f9039afb4144a1f6fd8d2ca17a180786b69acc140d282b71a49"
  },
  "kernelspec": {
   "display_name": "Python 3.9.10 64-bit",
   "language": "python",
   "name": "python3"
  },
  "language_info": {
   "codemirror_mode": {
    "name": "ipython",
    "version": 3
   },
   "file_extension": ".py",
   "mimetype": "text/x-python",
   "name": "python",
   "nbconvert_exporter": "python",
   "pygments_lexer": "ipython3",
   "version": "3.9.10"
  },
  "orig_nbformat": 4
 },
 "nbformat": 4,
 "nbformat_minor": 2
}
