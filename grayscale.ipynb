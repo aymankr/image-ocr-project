{
 "cells": [
  {
   "cell_type": "code",
   "execution_count": 6,
   "metadata": {},
   "outputs": [
    {
     "name": "stdout",
     "output_type": "stream",
     "text": [
      "Percentage : 24.0\n",
      "Confusion matrix :\n",
      "[[0. 0. 0. 0. 0. 0. 1. 1. 5. 3.]\n",
      " [0. 0. 2. 0. 2. 2. 1. 2. 1. 0.]\n",
      " [1. 3. 0. 2. 3. 0. 0. 1. 0. 0.]\n",
      " [0. 1. 2. 5. 0. 1. 0. 1. 0. 0.]\n",
      " [0. 3. 3. 0. 1. 3. 0. 0. 0. 0.]\n",
      " [0. 1. 0. 0. 4. 4. 0. 1. 0. 0.]\n",
      " [3. 1. 0. 0. 0. 0. 5. 1. 0. 0.]\n",
      " [1. 3. 1. 1. 0. 1. 0. 2. 0. 1.]\n",
      " [4. 0. 0. 0. 0. 0. 1. 0. 4. 1.]\n",
      " [1. 0. 0. 1. 1. 0. 1. 1. 2. 3.]]\n"
     ]
    }
   ],
   "source": [
    "from skimage import io, img_as_float\n",
    "from skimage.transform import resize\n",
    "import numpy as np\n",
    "import scipy.ndimage as ndi\n",
    "import matplotlib.pyplot as plt\n",
    "\n",
    "\n",
    "def grayscaleFloat(img):\n",
    "    img = img_as_float(img)\n",
    "    return np.mean(img)\n",
    "\n",
    "def compareGrayFloat(img1, img2):\n",
    "    if (-0.05 < np.mean(img1) - np.mean(img2) < 0.05):\n",
    "        return True\n",
    "    return False\n",
    "\n",
    "def getImg(imgName):\n",
    "    img = io.imread(imgName)\n",
    "    resize(img, (60, 60), preserve_range=True).astype('uint8')\n",
    "    return img\n",
    "\n",
    "def compareToAllButOne(name1):\n",
    "    min = 100\n",
    "    tmpI = -1\n",
    "    baseImg = getImg(name1)\n",
    "    baseImg = grayscaleFloat(baseImg)\n",
    "    for i in range(0,10):\n",
    "        for x in range (1,11):\n",
    "            name = f'baseProjetOCR/{i}_{x}.png'\n",
    "            if (name != name1):\n",
    "\n",
    "                compImg = getImg(name)\n",
    "                compImg = grayscaleFloat(compImg)\n",
    "\n",
    "                if min > abs(np.mean(baseImg) - np.mean(compImg)): \n",
    "                    tmpI = i\n",
    "                    min = abs(np.mean(baseImg) - np.mean(compImg))\n",
    "    \n",
    "    return tmpI\n",
    "\n",
    "mat = np.zeros(shape=(10, 10))\n",
    "for i in range(0,10):\n",
    "    for x in range(1,11):\n",
    "        name = f'baseProjetOCR/{i}_{x}.png'\n",
    "        n = compareToAllButOne(name)\n",
    "        mat [i][n]+=1\n",
    "\n",
    "print(\"Percentage : \" + str(np.trace(mat)))\n",
    "print(\"Confusion matrix :\\n\" + str(mat))"
   ]
  }
 ],
 "metadata": {
  "interpreter": {
   "hash": "916dbcbb3f70747c44a77c7bcd40155683ae19c65e1c03b4aa3499c5328201f1"
  },
  "kernelspec": {
   "display_name": "Python 3.8.10 64-bit",
   "language": "python",
   "name": "python3"
  },
  "language_info": {
   "codemirror_mode": {
    "name": "ipython",
    "version": 3
   },
   "file_extension": ".py",
   "mimetype": "text/x-python",
   "name": "python",
   "nbconvert_exporter": "python",
   "pygments_lexer": "ipython3",
   "version": "3.8.10"
  },
  "orig_nbformat": 4
 },
 "nbformat": 4,
 "nbformat_minor": 2
}
