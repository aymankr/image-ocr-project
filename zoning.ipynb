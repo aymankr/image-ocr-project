{
 "cells": [
  {
   "cell_type": "code",
   "execution_count": 39,
   "metadata": {},
   "outputs": [],
   "source": [
    "from skimage import io\n",
    "from skimage.transform import resize\n",
    "import numpy as np\n",
    "import scipy.ndimage as ndi\n",
    "import matplotlib.pyplot as plt\n",
    "import math\n",
    "\n",
    "def imgToBinaryMatrix(image):\n",
    "    resize(image, (60, 60), preserve_range=True).astype('uint8')\n",
    "\n",
    "    # specify a threshold 0-255\n",
    "    threshold = 150\n",
    "\n",
    "    # make all pixels < threshold black\n",
    "    binarized = 1.0 * (image > threshold)\n",
    "\n",
    "    #convert 3d array to 2d array\n",
    "    return binarized[:,:,0]\n"
   ]
  },
  {
   "cell_type": "code",
   "execution_count": 40,
   "metadata": {},
   "outputs": [
    {
     "name": "stdout",
     "output_type": "stream",
     "text": [
      "77\n",
      "[[10, 0, 0, 0, 0, 0, 0, 0, 0, 0], [0, 7, 0, 1, 0, 0, 1, 0, 0, 1], [0, 0, 9, 0, 0, 0, 1, 0, 0, 0], [0, 0, 0, 6, 0, 0, 0, 1, 0, 3], [0, 0, 0, 0, 8, 0, 0, 2, 0, 0], [0, 0, 0, 0, 0, 10, 0, 0, 0, 0], [0, 0, 0, 0, 0, 0, 10, 0, 0, 0], [0, 1, 0, 2, 1, 0, 0, 5, 0, 1], [0, 0, 1, 0, 0, 0, 1, 0, 8, 0], [0, 0, 0, 3, 0, 1, 0, 2, 0, 4]]\n"
     ]
    }
   ],
   "source": [
    "def convertMatrixTo3x3(matrix):\n",
    "    xs = matrix.shape[0]//3  # division lines for the picture\n",
    "    ys = matrix.shape[1]//3\n",
    "\n",
    "    # now slice up the image (in a shape that works well with subplots)\n",
    "    newMatrix = [[matrix[0:xs, 0:ys], matrix[0:xs, ys:ys*2], matrix[0:xs, ys*2:ys*3]], \n",
    "    [matrix[xs:xs*2, 0:ys], matrix[xs:xs*2, ys:ys*2], matrix[xs:xs*2, ys*2:ys*3]], \n",
    "    [matrix[xs*2:xs*3, 0:ys], matrix[xs*2:xs*3, ys:ys*2], matrix[xs*2:xs*3, ys*2:ys*3]], \n",
    "    ]\n",
    "    return newMatrix\n",
    "\n",
    "def convert3x3ToVector(matrix):\n",
    "    vector = []\n",
    "    for i in range(3):\n",
    "        for j in range(3):\n",
    "            vector.append(np.count_nonzero(matrix[i][j] == 0))\n",
    "    return vector\n",
    "\n",
    "\"\"\"\n",
    "fig, axs = plt.subplots(3, 3)\n",
    "vector = []\n",
    "for i in range(3):\n",
    "    for j in range(3):\n",
    "       axs[i][j].imshow(splits[i][j])\n",
    "\"\"\"\n",
    "\n",
    "def euclideanDistance(v1, v2):\n",
    "    distance = 0\n",
    "    for i in range(len(v1)):\n",
    "        distance += math.pow((v1[i] - v2[i]),2)\n",
    "    return math.sqrt(distance)\n",
    "    \n",
    "def getComparedVectorsExcept(number, nth):\n",
    "    vectors = []\n",
    "    for i in range(10):\n",
    "        for j in range(1,11):\n",
    "            if i == number and j == nth:\n",
    "                    continue\n",
    "            name = f'baseProjetOCR/{i}_{j}.png'\n",
    "            matrixImg = imgToBinaryMatrix(io.imread(name))\n",
    "            matrixImg = convertMatrixTo3x3(matrixImg)\n",
    "            vectors.append((name,convert3x3ToVector(matrixImg)))\n",
    "    return vectors\n",
    "\n",
    "def getFileNameCorrespondingTo(img, comparedVectors):\n",
    "    matrixImg = imgToBinaryMatrix(img)\n",
    "    matrixImg = convertMatrixTo3x3(matrixImg)\n",
    "    sourceVector = convert3x3ToVector(matrixImg)\n",
    "\n",
    "    allDistances = [euclideanDistance(sourceVector, comparedVectors[i][1]) for i in range(len(comparedVectors))]\n",
    "    index = allDistances.index(min(allDistances))\n",
    "    return comparedVectors[index][0]\n",
    "\n",
    "def getNumberOfImage(s):\n",
    "    return int(s.split(\"/\",1)[1][0])\n",
    "\n",
    "def confusionMatrix():\n",
    "    mat = []\n",
    "    for i in range(10):\n",
    "        vectorTmp = [0]*10\n",
    "        for j in range(11):\n",
    "            if j == 0:\n",
    "                continue\n",
    "            vectors = getComparedVectorsExcept(i, j)\n",
    "            n = getNumberOfImage(getFileNameCorrespondingTo(io.imread(f'baseProjetOCR/{i}_{j}.png'), vectors))\n",
    "            vectorTmp[n] += 1\n",
    "        mat.append(vectorTmp)\n",
    "    return mat\n",
    "\n",
    "confMatrix = confusionMatrix()\n",
    "s = sum([confMatrix[i][i] for i in range(10)])\n",
    "print(s)\n",
    "print(confMatrix)"
   ]
  }
 ],
 "metadata": {
  "interpreter": {
   "hash": "e63842befc5e309f9dfd3b69b3709d6f7912ecf5e69558e6edb904eb8b4efcef"
  },
  "kernelspec": {
   "display_name": "Python 3.10.0 64-bit",
   "language": "python",
   "name": "python3"
  },
  "language_info": {
   "codemirror_mode": {
    "name": "ipython",
    "version": 3
   },
   "file_extension": ".py",
   "mimetype": "text/x-python",
   "name": "python",
   "nbconvert_exporter": "python",
   "pygments_lexer": "ipython3",
   "version": "3.8.10"
  },
  "orig_nbformat": 4
 },
 "nbformat": 4,
 "nbformat_minor": 2
}
