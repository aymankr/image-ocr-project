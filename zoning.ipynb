{
 "cells": [
  {
   "cell_type": "code",
   "execution_count": 276,
   "metadata": {},
   "outputs": [],
   "source": [
    "from skimage import io\n",
    "from skimage.transform import resize\n",
    "import numpy as np\n",
    "import scipy.ndimage as ndi\n",
    "import matplotlib.pyplot as plt\n",
    "import math\n",
    "\n",
    "def imgToBinaryMatrix(image):\n",
    "    resize(image, (60, 60), preserve_range=True).astype('uint8')\n",
    "\n",
    "    # specify a threshold 0-255\n",
    "    threshold = 150\n",
    "\n",
    "    # make all pixels < threshold black\n",
    "    binarized = 1.0 * (image > threshold)\n",
    "\n",
    "    #convert 3d array to 2d array\n",
    "    return binarized[:,:,0]\n"
   ]
  },
  {
   "cell_type": "code",
   "execution_count": 277,
   "metadata": {},
   "outputs": [
    {
     "name": "stdout",
     "output_type": "stream",
     "text": [
      "[[9, 7, 9, 10, 8, 10, 12, 10, 7, 8], [9, 7, 9, 10, 8, 10, 12, 10, 7, 8], [9, 7, 9, 10, 8, 10, 12, 10, 7, 8], [9, 7, 9, 10, 8, 10, 12, 10, 7, 8], [9, 7, 9, 10, 8, 10, 12, 10, 7, 8], [9, 7, 9, 10, 8, 10, 12, 10, 7, 8], [9, 7, 9, 10, 8, 10, 12, 10, 7, 8], [9, 7, 9, 10, 8, 10, 12, 10, 7, 8], [9, 7, 9, 10, 8, 10, 12, 10, 7, 8], [9, 7, 9, 10, 8, 10, 12, 10, 7, 8]]\n"
     ]
    }
   ],
   "source": [
    "def convertMatrixTo3x3(matrix):\n",
    "    xs = matrix.shape[0]//3  # division lines for the picture\n",
    "    ys = matrix.shape[1]//3\n",
    "\n",
    "    # now slice up the image (in a shape that works well with subplots)\n",
    "    newMatrix = [[matrix[0:xs, 0:ys], matrix[0:xs, ys:ys*2], matrix[0:xs, ys*2:ys*3]], \n",
    "    [matrix[xs:xs*2, 0:ys], matrix[xs:xs*2, ys:ys*2], matrix[xs:xs*2, ys*2:ys*3]], \n",
    "    [matrix[xs*2:xs*3, 0:ys], matrix[xs*2:xs*3, ys:ys*2], matrix[xs*2:xs*3, ys*2:ys*3]], \n",
    "    ]\n",
    "    return newMatrix\n",
    "\n",
    "def convert3x3ToVector(matrix):\n",
    "    vector = []\n",
    "    for i in range(3):\n",
    "        for j in range(3):\n",
    "            vector.append(np.count_nonzero(matrix[i][j] == 0))\n",
    "    return vector\n",
    "\n",
    "\"\"\"\n",
    "fig, axs = plt.subplots(3, 3)\n",
    "vector = []\n",
    "for i in range(3):\n",
    "    for j in range(3):\n",
    "       axs[i][j].imshow(splits[i][j])\n",
    "\"\"\"\n",
    "\n",
    "def compareTwoVectors(v1, v2):\n",
    "    distance = 0\n",
    "    for i in range(len(v1)):\n",
    "        distance += (v1[i] - v2[i])**2\n",
    "    return math.sqrt(distance)\n",
    "    \n",
    "def getAllVectorsExcept(number, nth):\n",
    "    vectors = []\n",
    "    for i in range(0,10):\n",
    "        for j in range(1,11):\n",
    "            if i == number and j == nth:\n",
    "                    continue\n",
    "            name = f'baseProjetOCR/{i}_{j}.png'\n",
    "            matrixImg = imgToBinaryMatrix(io.imread(name))\n",
    "            matrixImg = convertMatrixTo3x3(matrixImg)\n",
    "            vectors.append((name,convert3x3ToVector(matrixImg)))\n",
    "    return vectors\n",
    "\n",
    "def getBestFileName(img, allVectors):\n",
    "    matrixImg = imgToBinaryMatrix(img)\n",
    "    matrixImg = convertMatrixTo3x3(matrixImg)\n",
    "    sourceVector = convert3x3ToVector(matrixImg)\n",
    "\n",
    "    allDistances = [compareTwoVectors(sourceVector, allVectors[i][1]) for i in range(len(allVectors))]\n",
    "    index = allDistances.index(min(allDistances))\n",
    "    return allVectors[index][0]\n",
    "\n",
    "def getNumberOfImage(s):\n",
    "    return int(s.split(\"/\",1)[1][0])\n",
    "\n",
    "img = io.imread('baseProjetOCR/0_5.png')\n",
    "allVectorsExceptSource = getAllVectorsExcept(0, 5)\n",
    "\n",
    "def confusionMatrix():\n",
    "    mat = [[0 for _ in range(10)]]*10\n",
    "    for i in range(0,10):\n",
    "        for j in range(0,10):\n",
    "            if j == 0:\n",
    "                continue\n",
    "            vectors = getAllVectorsExcept(i, j)\n",
    "            n = getNumberOfImage(getBestFileName(io.imread(f'baseProjetOCR/{i}_{j}.png'), vectors))\n",
    "            mat[i][n] += 1\n",
    "    return mat\n",
    "print(confusionMatrix())"
   ]
  }
 ],
 "metadata": {
  "interpreter": {
   "hash": "e63842befc5e309f9dfd3b69b3709d6f7912ecf5e69558e6edb904eb8b4efcef"
  },
  "kernelspec": {
   "display_name": "Python 3.10.0 64-bit",
   "language": "python",
   "name": "python3"
  },
  "language_info": {
   "codemirror_mode": {
    "name": "ipython",
    "version": 3
   },
   "file_extension": ".py",
   "mimetype": "text/x-python",
   "name": "python",
   "nbconvert_exporter": "python",
   "pygments_lexer": "ipython3",
   "version": "3.8.10"
  },
  "orig_nbformat": 4
 },
 "nbformat": 4,
 "nbformat_minor": 2
}
