{
 "cells": [
  {
   "cell_type": "code",
   "execution_count": 3,
   "metadata": {},
   "outputs": [
    {
     "data": {
      "image/png": "[encoded data removed]",
      "text/plain": [
       "<Figure size 432x288 with 1 Axes>"
      ]
     },
     "metadata": {
      "needs_background": "light"
     },
     "output_type": "display_data"
    },
    {
     "name": "stdout",
     "output_type": "stream",
     "text": [
      "[array([[1., 1., 1., 1., 1., 1., 1., 1., 1., 1., 1., 1., 1., 1., 0., 1.],\n",
      "        [1., 1., 1., 1., 1., 1., 1., 1., 1., 1., 1., 1., 1., 0., 0., 1.],\n",
      "        [1., 1., 1., 1., 1., 1., 1., 1., 1., 1., 1., 1., 1., 0., 0., 1.]])\n",
      " array([[1., 1., 1., 1., 1., 1., 1., 1., 1., 1., 1., 1., 0., 0., 0., 1.],\n",
      "        [1., 1., 1., 1., 1., 1., 1., 1., 1., 1., 1., 0., 0., 0., 1., 1.],\n",
      "        [1., 1., 1., 1., 1., 1., 1., 1., 1., 1., 0., 0., 0., 0., 1., 1.]])\n",
      " array([[1., 1., 1., 1., 1., 1., 1., 1., 0., 0., 0., 0., 0., 1., 1., 1.],\n",
      "        [1., 1., 1., 1., 1., 1., 0., 0., 0., 1., 1., 0., 0., 1., 1., 1.],\n",
      "        [1., 1., 1., 1., 1., 0., 0., 0., 1., 1., 1., 0., 0., 1., 1., 1.]])\n",
      " array([[1., 1., 1., 0., 0., 0., 1., 1., 1., 1., 1., 0., 0., 1., 1., 1.],\n",
      "        [1., 0., 0., 0., 0., 1., 1., 1., 1., 1., 1., 0., 0., 1., 1., 1.],\n",
      "        [0., 0., 0., 1., 1., 1., 1., 1., 1., 1., 1., 0., 1., 1., 1., 1.]])\n",
      " array([[1., 0., 1., 1., 1., 1., 1., 1., 1., 1., 0., 0., 1., 1., 1., 1.],\n",
      "        [1., 1., 1., 1., 1., 1., 1., 1., 1., 1., 0., 0., 1., 1., 1., 1.],\n",
      "        [1., 1., 1., 1., 1., 1., 1., 1., 1., 1., 0., 0., 1., 1., 1., 1.]])\n",
      " array([[1., 1., 1., 1., 1., 1., 1., 1., 1., 1., 0., 1., 1., 1., 1., 1.],\n",
      "        [1., 1., 1., 1., 1., 1., 1., 1., 1., 1., 0., 1., 1., 1., 1., 1.],\n",
      "        [1., 1., 1., 1., 1., 1., 1., 1., 1., 0., 0., 1., 1., 1., 1., 1.]])\n",
      " array([[1., 1., 1., 1., 1., 1., 1., 1., 1., 0., 0., 1., 1., 1., 1., 1.],\n",
      "        [1., 1., 1., 1., 1., 1., 1., 1., 1., 0., 0., 1., 1., 1., 1., 1.],\n",
      "        [1., 1., 1., 1., 1., 1., 1., 1., 1., 0., 0., 1., 1., 1., 1., 1.]])\n",
      " array([[1., 1., 1., 1., 1., 1., 1., 1., 1., 0., 0., 1., 1., 1., 1., 1.],\n",
      "        [1., 1., 1., 1., 1., 1., 1., 1., 1., 0., 0., 1., 1., 1., 1., 1.]])\n",
      " array([[1., 1., 1., 1., 1., 1., 1., 1., 1., 0., 0., 1., 1., 1., 1., 1.],\n",
      "        [1., 1., 1., 1., 1., 1., 1., 1., 1., 1., 1., 1., 1., 1., 1., 1.]])]\n"
     ]
    }
   ],
   "source": [
    "from skimage import io\n",
    "from skimage.transform import resize\n",
    "import numpy as np\n",
    "import scipy.ndimage as ndi\n",
    "import matplotlib.pyplot as plt\n",
    "\n",
    "# read in image as 8 bit grayscale\n",
    "img = io.imread('baseProjetOCR/1_8.png')\n",
    "resize(img, (60, 60), preserve_range=True).astype('uint8')\n",
    "\n",
    "# specify a threshold 0-255\n",
    "threshold = 150\n",
    "\n",
    "# make all pixels < threshold black\n",
    "binarized = 1.0 * (img > threshold)\n",
    "\n",
    "#convert 3d array to 2d array\n",
    "binarized = binarized[:,:,0]\n",
    "\n",
    "imgplot = plt.imshow(binarized)\n",
    "plt.show()\n",
    "\n",
    "#print(binarized)\n",
    "\n",
    "y_zoning = int(len(binarized)/3)\n",
    "x_zoning = int(len(binarized[0])/3)\n",
    "\n",
    "vector = []\n",
    "\n",
    "lis = np.array_split(binarized,9,axis=0)\n",
    "vectors = np.array(lis,dtype=object)\n",
    "print(vectors)\n",
    "\n"
   ]
  },
  {
   "cell_type": "code",
   "execution_count": 32,
   "metadata": {},
   "outputs": [
    {
     "name": "stdout",
     "output_type": "stream",
     "text": [
      "[0, 5, 20, 10, 4, 14, 0, 7, 8]\n"
     ]
    },
    {
     "data": {
      "image/png": "[encoded data removed]",
      "text/plain": [
       "<Figure size 432x288 with 9 Axes>"
      ]
     },
     "metadata": {
      "needs_background": "light"
     },
     "output_type": "display_data"
    }
   ],
   "source": [
    "xs = binarized.shape[0]//3  # division lines for the picture\n",
    "ys = binarized.shape[1]//3\n",
    "\n",
    "# now slice up the image (in a shape that works well with subplots)\n",
    "splits = [[binarized[0:xs, 0:ys], binarized[0:xs, ys:ys*2], binarized[0:xs, ys*2:ys*3]], \n",
    "[binarized[xs:xs*2, 0:ys], binarized[xs:xs*2, ys:ys*2], binarized[xs:xs*2, ys*2:ys*3]], \n",
    "[binarized[xs*2:xs*3, 0:ys], binarized[xs*2:xs*3, ys:ys*2], binarized[xs*2:xs*3, ys*2:ys*3]], \n",
    "]\n",
    "\n",
    "fig, axs = plt.subplots(3, 3)\n",
    "vects = []\n",
    "for i in range(3):\n",
    "    for j in range(3):\n",
    "        axs[i][j].imshow(splits[i][j])\n",
    "for i in range(3):\n",
    "    for j in range(3):\n",
    "        vects.append(np.count_nonzero(splits[i][j] == 0))\n",
    "\n",
    "print(vects)\n"
   ]
  }
 ],
 "metadata": {
  "interpreter": {
   "hash": "e63842befc5e309f9dfd3b69b3709d6f7912ecf5e69558e6edb904eb8b4efcef"
  },
  "kernelspec": {
   "display_name": "Python 3.10.0 64-bit",
   "language": "python",
   "name": "python3"
  },
  "language_info": {
   "codemirror_mode": {
    "name": "ipython",
    "version": 3
   },
   "file_extension": ".py",
   "mimetype": "text/x-python",
   "name": "python",
   "nbconvert_exporter": "python",
   "pygments_lexer": "ipython3",
   "version": "3.10.0"
  },
  "orig_nbformat": 4
 },
 "nbformat": 4,
 "nbformat_minor": 2
}
